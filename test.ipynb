{
 "cells": [
  {
   "cell_type": "code",
   "execution_count": 2,
   "metadata": {},
   "outputs": [],
   "source": [
    "from dotenv import load_dotenv\n",
    "import os\n",
    "\n",
    "load_dotenv()\n",
    "\n",
    "GEMINI_API_KEY = os.getenv('GEMINI_API_KEY') \n",
    "\n",
    "if \"GOOGLE_API_KEY\" not in os.environ:\n",
    "    os.environ[\"GOOGLE_API_KEY\"] = GEMINI_API_KEY"
   ]
  },
  {
   "cell_type": "code",
   "execution_count": 4,
   "metadata": {},
   "outputs": [],
   "source": [
    "from langchain.text_splitter import RecursiveCharacterTextSplitter\n",
    "from langchain_google_genai import GoogleGenerativeAIEmbeddings, ChatGoogleGenerativeAI\n",
    "from langchain.vectorstores import FAISS\n",
    "from langchain.chains import ConversationalRetrievalChain\n",
    "\n",
    "from PyPDF2 import PdfReader\n",
    "# import google.generativeai as genai"
   ]
  },
  {
   "cell_type": "code",
   "execution_count": 8,
   "metadata": {},
   "outputs": [
    {
     "name": "stdout",
     "output_type": "stream",
     "text": [
      "yes\n"
     ]
    }
   ],
   "source": [
    "# TODO:\n",
    "# 1. store doc embeddings \n",
    "# 2. check google embeddings on larger corpus\n",
    "# 3. github instructions\n",
    "# 4. py script"
   ]
  },
  {
   "cell_type": "code",
   "execution_count": 35,
   "metadata": {},
   "outputs": [],
   "source": [
    "def get_embedds(file_path, filename):\n",
    "\n",
    "    if os.path.exists('doc_embedddings'):\n",
    "        print('searching for doc embedding')\n",
    "\n",
    "    else:\n",
    "        os.mkdir('doc_embedddings')\n",
    "\n",
    "\n",
    "    reader = PdfReader(file_path)\n",
    "    corpus = ''.join([p.extract_text() for p in reader.pages if p.extract_text()])\n",
    "\n",
    "    splitter = RecursiveCharacterTextSplitter(chunk_size=1000, chunk_overlap=200)\n",
    "    chunks = splitter.split_text(corpus)\n",
    "\n",
    "    if len(chunks) >=50:\n",
    "        chunks = chunks[:50]\n",
    "\n",
    "    embeddings = GoogleGenerativeAIEmbeddings(model=\"models/embedding-001\")\n",
    "    # vectors = embeddings.embed_documents(chunks)\n",
    "    vectors = FAISS.from_texts(chunks, embeddings)\n",
    "\n",
    "    return vectors\n"
   ]
  },
  {
   "cell_type": "code",
   "execution_count": 36,
   "metadata": {},
   "outputs": [
    {
     "name": "stdout",
     "output_type": "stream",
     "text": [
      "filename:  ./pdfs/A Deep Neural Network for Unsupervised Anomaly Detection and Diagnosis in Multivariate Time Series Data.pdf\n"
     ]
    }
   ],
   "source": [
    "files = os.listdir('./pdfs/')\n",
    "file = './pdfs/' + files[0]\n",
    "print('filename: ', str(file))"
   ]
  },
  {
   "cell_type": "code",
   "execution_count": 37,
   "metadata": {},
   "outputs": [],
   "source": [
    "vectors = get_embedds(file)"
   ]
  },
  {
   "cell_type": "code",
   "execution_count": 4,
   "metadata": {},
   "outputs": [
    {
     "data": {
      "text/plain": [
       "42632"
      ]
     },
     "execution_count": 4,
     "metadata": {},
     "output_type": "execute_result"
    }
   ],
   "source": [
    "# with open('dd.txt', 'r', encoding='utf-8') as f:\n",
    "#     corpus = f.readlines()\n",
    "\n",
    "# ###### CHANGE THIS ######\n",
    "# corpus2 = corpus[:100]\n",
    "# corpus2 = ' '.join(corpus)\n",
    "# len(corpus2)"
   ]
  },
  {
   "cell_type": "code",
   "execution_count": 38,
   "metadata": {},
   "outputs": [],
   "source": [
    "llm = ChatGoogleGenerativeAI(model=\"gemini-1.5-flash\")\n",
    "qa = ConversationalRetrievalChain.from_llm(llm, retriever=vectors.as_retriever(), return_source_documents=True)"
   ]
  },
  {
   "cell_type": "code",
   "execution_count": 39,
   "metadata": {},
   "outputs": [],
   "source": [
    "query = 'tell me about nsupervised Anomaly Detection'"
   ]
  },
  {
   "cell_type": "code",
   "execution_count": 40,
   "metadata": {},
   "outputs": [],
   "source": [
    "chat_history = []\n",
    "result = qa({\"question\": query, \"chat_history\": chat_history})\n",
    "chat_history.append((query, result[\"answer\"]))"
   ]
  },
  {
   "cell_type": "code",
   "execution_count": 42,
   "metadata": {},
   "outputs": [
    {
     "name": "stdout",
     "output_type": "stream",
     "text": [
      "Unsupervised anomaly detection is a technique used to identify unusual patterns or data points in a dataset without relying on labeled examples of what constitutes an anomaly. This is particularly useful when you don't have a predefined set of \"normal\" or \"abnormal\" data points to train a model on.\n",
      "\n",
      "Here's a breakdown of the key aspects of unsupervised anomaly detection:\n",
      "\n",
      "**How it Works:**\n",
      "\n",
      "* **No Labeled Data:** Unlike supervised methods, unsupervised anomaly detection doesn't require you to have a dataset where anomalies are explicitly marked.\n",
      "* **Finding Outliers:** The goal is to identify data points that deviate significantly from the \"normal\" behavior or distribution of the data. These deviations are considered anomalies.\n",
      "* **Assumptions:**  Unsupervised methods often rely on assumptions about the data, such as the expectation that most data points should follow a certain pattern or distribution.\n",
      "\n",
      "**Common Techniques:**\n",
      "\n",
      "1. **Distance-Based Methods:**\n",
      "   * **k-Nearest Neighbors (kNN):**  Anomalies are identified as points that have fewer than k neighbors within a specified radius.\n",
      "   * **Clustering Algorithms:** Points that don't belong to any cluster or are in a cluster with a very small number of members are considered anomalies.\n",
      "\n",
      "2. **Density-Based Methods:**\n",
      "   * **Local Outlier Factor (LOF):**  Anomalies are points with significantly lower density compared to their neighbors.\n",
      "   * **Density Estimation Methods:**  Models like Gaussian Mixture Models (GMMs) can be used to estimate the data's density. Points with low density are considered outliers.\n",
      "\n",
      "3. **Temporal Prediction Methods:**\n",
      "   * **Autoregressive Models (AR):**  Anomaly detection is based on the deviation of actual data points from predictions made by an AR model.\n",
      "   * **Moving Average Models (MA):**  Anomalies are identified when the actual data deviates significantly from the moving average.\n",
      "\n",
      "4. **Deep Learning Techniques:**\n",
      "   * **Autoencoders:**  Deep neural networks trained to reconstruct input data. Anomalies are identified as points that the autoencoder has difficulty reconstructing.\n",
      "   * **Generative Adversarial Networks (GANs):**  GANs can learn the distribution of normal data and identify anomalies as points that are not generated by the learned distribution.\n",
      "\n",
      "**Challenges:**\n",
      "\n",
      "* **Defining \"Normal\":** Determining what constitutes an anomaly can be subjective and depend on the specific context.\n",
      "* **Data Complexity:** Unsupervised methods can struggle with high-dimensional data or data with complex patterns.\n",
      "* **False Positives:**  It's important to carefully tune parameters and evaluate the results to minimize false positives.\n",
      "\n",
      "**Applications:**\n",
      "\n",
      "Unsupervised anomaly detection is widely used in various fields, including:\n",
      "\n",
      "* **Fraud Detection:** Identifying fraudulent transactions in financial data.\n",
      "* **Network Security:** Detecting malicious activity in network traffic.\n",
      "* **Manufacturing:** Detecting defects in production processes.\n",
      "* **Healthcare:** Identifying unusual patterns in medical data for early diagnosis.\n",
      "\n",
      "**Choosing the Right Method:**\n",
      "\n",
      "The best method for unsupervised anomaly detection depends on the specific characteristics of your data, the type of anomalies you're looking for, and your computational resources. It's often a good idea to experiment with different techniques and compare their performance. \n",
      "\n"
     ]
    }
   ],
   "source": [
    "print(chat_history[-1][1])"
   ]
  },
  {
   "cell_type": "code",
   "execution_count": null,
   "metadata": {},
   "outputs": [],
   "source": []
  }
 ],
 "metadata": {
  "kernelspec": {
   "display_name": "venv",
   "language": "python",
   "name": "python3"
  },
  "language_info": {
   "codemirror_mode": {
    "name": "ipython",
    "version": 3
   },
   "file_extension": ".py",
   "mimetype": "text/x-python",
   "name": "python",
   "nbconvert_exporter": "python",
   "pygments_lexer": "ipython3",
   "version": "3.11.7"
  }
 },
 "nbformat": 4,
 "nbformat_minor": 2
}
