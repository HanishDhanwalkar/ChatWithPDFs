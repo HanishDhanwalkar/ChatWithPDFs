{
 "cells": [
  {
   "cell_type": "code",
   "execution_count": null,
   "metadata": {},
   "outputs": [],
   "source": [
    "import warnings \n",
    "warnings.filterwarnings('ignore')\n",
    "from dotenv import load_dotenv\n",
    "import os"
   ]
  },
  {
   "cell_type": "code",
   "execution_count": null,
   "metadata": {},
   "outputs": [],
   "source": [
    "load_dotenv()\n",
    "GEMINI_API_KEY = os.getenv('GEMINI_API_KEY') \n",
    "\n",
    "if \"GOOGLE_API_KEY\" not in os.environ:\n",
    "    os.environ[\"GOOGLE_API_KEY\"] = GEMINI_API_KEY"
   ]
  },
  {
   "cell_type": "code",
   "execution_count": null,
   "metadata": {},
   "outputs": [],
   "source": [
    "from langchain.text_splitter import RecursiveCharacterTextSplitter\n",
    "from langchain_google_genai import GoogleGenerativeAIEmbeddings, ChatGoogleGenerativeAI\n",
    "from langchain.vectorstores import FAISS\n",
    "from langchain.chains import ConversationalRetrievalChain\n",
    "\n",
    "from PyPDF2 import PdfReader\n",
    "\n",
    "# import google.generativeai as genai"
   ]
  },
  {
   "cell_type": "code",
   "execution_count": null,
   "metadata": {},
   "outputs": [],
   "source": [
    "# TODO:\n",
    "# 1. store doc embeddings [DONE]\n",
    "# 2. check google embeddings on larger corpus\n",
    "# 3. github instructions\n",
    "# 4. py script"
   ]
  },
  {
   "cell_type": "code",
   "execution_count": null,
   "metadata": {},
   "outputs": [],
   "source": [
    "def get_embedds(file_path, filename):\n",
    "    embeddings = GoogleGenerativeAIEmbeddings(model=\"models/embedding-001\")\n",
    "\n",
    "\n",
    "    if os.path.exists('doc_embeddings'):\n",
    "        print('searching for doc embedding')\n",
    "\n",
    "    else:\n",
    "        os.mkdir('doc_embeddings')\n",
    "\n",
    "    if not os.path.exists('doc_embeddings/' + filename):\n",
    "        print('not found in vectorstore, creating and loading....')\n",
    "        reader = PdfReader(file_path)\n",
    "        corpus = ''.join([p.extract_text() for p in reader.pages if p.extract_text()])\n",
    "\n",
    "        splitter = RecursiveCharacterTextSplitter(chunk_size=1000, chunk_overlap=200)\n",
    "        chunks = splitter.split_text(corpus)\n",
    "\n",
    "        vectors = FAISS.from_texts(chunks, embeddings)\n",
    "        vectors.save_local(f'doc_embeddings/{filename}')\n",
    "\n",
    "    else:\n",
    "        print('loading from vectorstore')\n",
    "        vectors = FAISS.load_local(f'doc_embeddings/{filename}', embeddings=embeddings, allow_dangerous_deserialization=True)\n",
    "\n",
    "    return vectors\n"
   ]
  },
  {
   "cell_type": "code",
   "execution_count": null,
   "metadata": {},
   "outputs": [],
   "source": [
    "files = os.listdir('./sample_pdfs/')\n",
    "file_name = files[0].split('.')[0]\n",
    "file = './sample_pdfs/' + file_name + '.pdf'\n",
    "print('filename: ', file_name, str(file))"
   ]
  },
  {
   "cell_type": "code",
   "execution_count": null,
   "metadata": {},
   "outputs": [],
   "source": [
    "vectors = get_embedds(file, file_name)"
   ]
  },
  {
   "cell_type": "code",
   "execution_count": null,
   "metadata": {},
   "outputs": [],
   "source": [
    "# with open('dd.txt', 'r', encoding='utf-8') as f:\n",
    "#     corpus = f.readlines()\n",
    "\n",
    "# ###### CHANGE THIS ######\n",
    "# corpus2 = corpus[:100]\n",
    "# corpus2 = ' '.join(corpus)\n",
    "# len(corpus2)"
   ]
  },
  {
   "cell_type": "code",
   "execution_count": null,
   "metadata": {},
   "outputs": [],
   "source": [
    "llm = ChatGoogleGenerativeAI(model=\"gemini-1.5-flash\")\n",
    "qa = ConversationalRetrievalChain.from_llm(llm, retriever=vectors.as_retriever(), return_source_documents=True)"
   ]
  },
  {
   "cell_type": "code",
   "execution_count": null,
   "metadata": {},
   "outputs": [],
   "source": [
    "# query = 'tell me about unsupervised Anomaly Detection'\n",
    "query = 'explain Figure 1'"
   ]
  },
  {
   "cell_type": "code",
   "execution_count": null,
   "metadata": {},
   "outputs": [],
   "source": [
    "chat_history = []\n",
    "result = qa({\"question\": query, \"chat_history\": chat_history})\n",
    "chat_history.append((query, result[\"answer\"]))"
   ]
  },
  {
   "cell_type": "code",
   "execution_count": null,
   "metadata": {},
   "outputs": [],
   "source": [
    "print(chat_history[-1][1])"
   ]
  },
  {
   "cell_type": "code",
   "execution_count": null,
   "metadata": {},
   "outputs": [],
   "source": [
    "import gradio as gr\n",
    "\n",
    "chat_history = []\n",
    "def echo(message, history):\n",
    "    result = qa({\"question\": message['text'], \"chat_history\": chat_history})\n",
    "    chat_history.append((message['text'], result[\"answer\"]))\n",
    "    return result['answer']\n",
    "\n",
    "\n",
    "demo = gr.ChatInterface(\n",
    "    fn=echo,\n",
    "    examples=[{\"text\": \"hello\"}, {\"text\": \"hola\"}, {\"text\": \"merhaba\"}],\n",
    "    title=\"Echo Bot\",\n",
    "    multimodal=True,\n",
    ")\n",
    "demo.launch()"
   ]
  },
  {
   "cell_type": "code",
   "execution_count": null,
   "metadata": {},
   "outputs": [],
   "source": [
    "demo.close()"
   ]
  },
  {
   "cell_type": "code",
   "execution_count": null,
   "metadata": {},
   "outputs": [],
   "source": [
    "from pathlib import Path\n",
    "import gradio as gr\n",
    "import time \n",
    "\n",
    "llm_chat_history = []\n",
    "\n",
    "with gr.Blocks() as demo:\n",
    "\n",
    "    # Chat window\n",
    "    chatbot = gr.Chatbot()\n",
    "    msg = gr.Textbox()\n",
    "    clear = gr.ClearButton([msg, chatbot])\n",
    "\n",
    "    def respond(message, chat_history):\n",
    "        result = qa({\"question\": message, \"chat_history\": llm_chat_history})\n",
    "        llm_chat_history.append((message, result[\"answer\"]))\n",
    "        chat_history.append((message, result[\"answer\"]))\n",
    "        # return result['answer']\n",
    "        return \"\", chat_history\n",
    "\n",
    "    msg.submit(respond, [msg, chatbot], [msg, chatbot])\n",
    "\n",
    "if __name__ == \"__main__\":\n",
    "    demo.launch()"
   ]
  },
  {
   "cell_type": "code",
   "execution_count": 119,
   "metadata": {},
   "outputs": [
    {
     "name": "stdout",
     "output_type": "stream",
     "text": [
      "Closing server running on port: 7879\n"
     ]
    }
   ],
   "source": [
    "demo.close()"
   ]
  },
  {
   "cell_type": "code",
   "execution_count": 114,
   "metadata": {},
   "outputs": [],
   "source": [
    "import os    \n",
    "\n",
    "def upload_file(file):    \n",
    "    UPLOAD_FOLDER = \"./data/\"    \n",
    "    if not os.path.exists(UPLOAD_FOLDER):    \n",
    "        os.mkdir(UPLOAD_FOLDER)    \n",
    "    if file.endswith('.pdf'):\n",
    "        print(file)\n",
    "        if not os.path.exists(UPLOAD_FOLDER + file):\n",
    "            shutil.copy(file, UPLOAD_FOLDER)    \n",
    "            gr.Info(\"File Uploaded!!!\")    \n",
    "        else:\n",
    "            print('already there')\n",
    "    else: \n",
    "        print('error')\n",
    "\n",
    "with gr.Blocks() as demo:    \n",
    "    gr.Markdown(    \n",
    "        \"\"\"    \n",
    "        # Upload a PDF here:\n",
    "        \"\"\")    \n",
    "    upload_button = gr.UploadButton(\"Click to Upload a File\")    \n",
    "    upload_button.upload(upload_file, upload_button)\n",
    "\n",
    "    \n",
    "    # Chat window\n",
    "    chatbot = gr.Chatbot()\n",
    "    msg = gr.Textbox()\n",
    "    clear = gr.ClearButton([msg, chatbot])\n",
    "\n",
    "    def respond(message, chat_history):\n",
    "        result = qa({\"question\": message, \"chat_history\": llm_chat_history})\n",
    "        llm_chat_history.append((message, result[\"answer\"]))\n",
    "        chat_history.append((message, result[\"answer\"]))\n",
    "        # return result['answer']\n",
    "        return \"\", chat_history\n",
    "\n",
    "    msg.submit(respond, [msg, chatbot], [msg, chatbot])"
   ]
  },
  {
   "cell_type": "code",
   "execution_count": 117,
   "metadata": {},
   "outputs": [
    {
     "name": "stdout",
     "output_type": "stream",
     "text": [
      "Running on local URL:  http://127.0.0.1:7879\n",
      "\n",
      "To create a public link, set `share=True` in `launch()`.\n"
     ]
    },
    {
     "data": {
      "text/html": [
       "<div><iframe src=\"http://127.0.0.1:7879/\" width=\"100%\" height=\"500\" allow=\"autoplay; camera; microphone; clipboard-read; clipboard-write;\" frameborder=\"0\" allowfullscreen></iframe></div>"
      ],
      "text/plain": [
       "<IPython.core.display.HTML object>"
      ]
     },
     "metadata": {},
     "output_type": "display_data"
    },
    {
     "data": {
      "text/plain": []
     },
     "execution_count": 117,
     "metadata": {},
     "output_type": "execute_result"
    },
    {
     "name": "stdout",
     "output_type": "stream",
     "text": [
      "C:\\Users\\Hanish\\AppData\\Local\\Temp\\gradio\\d9cb449af41b6da76c98475ff268b3ef06d6dec1\\A Deep Neural Network for Unsupervised Anomaly Detection and Diagnosis in Multivariate Time Series Data.pdf\n"
     ]
    }
   ],
   "source": [
    "demo.launch()"
   ]
  },
  {
   "cell_type": "code",
   "execution_count": null,
   "metadata": {},
   "outputs": [],
   "source": []
  }
 ],
 "metadata": {
  "kernelspec": {
   "display_name": "venv",
   "language": "python",
   "name": "python3"
  },
  "language_info": {
   "codemirror_mode": {
    "name": "ipython",
    "version": 3
   },
   "file_extension": ".py",
   "mimetype": "text/x-python",
   "name": "python",
   "nbconvert_exporter": "python",
   "pygments_lexer": "ipython3",
   "version": "3.11.7"
  }
 },
 "nbformat": 4,
 "nbformat_minor": 2
}
